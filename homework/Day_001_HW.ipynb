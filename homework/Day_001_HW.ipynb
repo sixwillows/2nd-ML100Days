{
 "cells": [
  {
   "cell_type": "markdown",
   "metadata": {},
   "source": [
    "**作業1：\n",
    "\n",
    "請上 Kaggle, 在 Competitions 或 Dataset 中找一組競賽或資料並寫下：\n",
    "\n",
    "資料名稱：Political Social Media Posts\n",
    "URL：https://www.kaggle.com/crowdflower/political-social-media-posts\n",
    "\n",
    "**1. 你選的這組資料為何重要\n",
    "\n",
    "現在政治開始發展網路選戰，在網路上開始出現以政治為目的的發言\n",
    "這組資料的目的在於分析政治發言的內容，並且為發言的內容做分類\n",
    "\n",
    "**2. 資料從何而來 (tips: 譬如提供者是誰、以什麼方式蒐集)\n",
    "\n",
    "資料來源為Crowdflower的Data For Everyone Library\n",
    "(現已改為figure-eight.com)\n",
    "\n",
    "**3. 蒐集而來的資料型態為何\n",
    "\n",
    "CSV格式\n",
    "\n",
    "**4. 這組資料想解決的問題如何評估\n",
    "\n",
    "透過message欄位，分類出各政治人物的發言傾向占比\n",
    "藉此分析哪些政治人物的社群發言更具有建設性\n",
    "\n",
    "\n",
    "**作業2：\n",
    "\n",
    "想像你經營一個自由載客車隊，你希望能透過數據分析以提升業績，請你思考並描述你如何規劃整體的分析/解決方案：\n",
    "\n",
    "**1. 核心問題為何 (tips：如何定義 「提升業績 & 你的假設」)\n",
    "\n",
    "\n",
    "\n",
    "**2. 資料從何而來 (tips：哪些資料可能會對你想問的問題產生影響 & 資料如何蒐集)\n",
    "\n",
    "\n",
    "\n",
    "**3. 蒐集而來的資料型態為何\n",
    "\n",
    "\n",
    "\n",
    "**4. 你要回答的問題，其如何評估 (tips：你的假設如何驗證)\n",
    "\n",
    "\n",
    "\n",
    "\n",
    "作業3：\n",
    "\n",
    "請點選下方檢視範例依照 Day_001_example_of_metrics.ipynb 完成 Mean Squared Error 的函式\n",
    "\n",
    "資料夾結構建立規則提醒：2nd-ML100Days > data資料夾 & homework資料夾 (ipynb檔) \n",
    "\n",
    "(請注意data的存放位置，建議放在*.ipynb 同一個目錄下，這樣才能在不修改code的情況下正常執行)"
   ]
  },
  {
   "cell_type": "code",
   "execution_count": null,
   "metadata": {},
   "outputs": [],
   "source": []
  }
 ],
 "metadata": {
  "kernelspec": {
   "display_name": "Python 3",
   "language": "python",
   "name": "python3"
  },
  "language_info": {
   "codemirror_mode": {
    "name": "ipython",
    "version": 3
   },
   "file_extension": ".py",
   "mimetype": "text/x-python",
   "name": "python",
   "nbconvert_exporter": "python",
   "pygments_lexer": "ipython3",
   "version": "3.7.3"
  }
 },
 "nbformat": 4,
 "nbformat_minor": 2
}
